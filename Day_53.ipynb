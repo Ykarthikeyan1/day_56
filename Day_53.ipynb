{
  "nbformat": 4,
  "nbformat_minor": 0,
  "metadata": {
    "colab": {
      "name": "Day_53.ipynb",
      "provenance": [],
      "authorship_tag": "ABX9TyOGBJ11o36DLLC+d6BtBaQ9",
      "include_colab_link": true
    },
    "kernelspec": {
      "name": "python3",
      "display_name": "Python 3"
    },
    "language_info": {
      "name": "python"
    }
  },
  "cells": [
    {
      "cell_type": "markdown",
      "metadata": {
        "id": "view-in-github",
        "colab_type": "text"
      },
      "source": [
        "<a href=\"https://colab.research.google.com/github/Ykarthikeyan1/day_56/blob/main/Day_53.ipynb\" target=\"_parent\"><img src=\"https://colab.research.google.com/assets/colab-badge.svg\" alt=\"Open In Colab\"/></a>"
      ]
    },
    {
      "cell_type": "code",
      "metadata": {
        "colab": {
          "base_uri": "https://localhost:8080/"
        },
        "id": "DVGh14MCMltL",
        "outputId": "d8f719a9-3164-49b3-b213-5bd6bcaa819a"
      },
      "source": [
        "#import numpy as np\n",
        "arr4 = np.array([1,2,3,5236])\n",
        " \n",
        "print(arr4.dtype)\n",
        " \n",
        "print (arr4.ndim)\n",
        " \n",
        "print (arr4.shape)\n",
        " \n",
        "print(arr4.size)"
      ],
      "execution_count": 19,
      "outputs": [
        {
          "output_type": "stream",
          "text": [
            "int64\n",
            "1\n",
            "(4,)\n",
            "4\n"
          ],
          "name": "stdout"
        }
      ]
    }
  ]
}
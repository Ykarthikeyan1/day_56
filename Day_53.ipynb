{
  "nbformat": 4,
  "nbformat_minor": 0,
  "metadata": {
    "colab": {
      "name": "Day_53.ipynb",
      "provenance": [],
      "authorship_tag": "ABX9TyMHEtftaf4sD+EtjdyFkVU4",
      "include_colab_link": true
    },
    "kernelspec": {
      "name": "python3",
      "display_name": "Python 3"
    },
    "language_info": {
      "name": "python"
    }
  },
  "cells": [
    {
      "cell_type": "markdown",
      "metadata": {
        "id": "view-in-github",
        "colab_type": "text"
      },
      "source": [
        "<a href=\"https://colab.research.google.com/github/Ykarthikeyan1/day_56/blob/main/Day_53.ipynb\" target=\"_parent\"><img src=\"https://colab.research.google.com/assets/colab-badge.svg\" alt=\"Open In Colab\"/></a>"
      ]
    },
    {
      "cell_type": "code",
      "metadata": {
        "colab": {
          "base_uri": "https://localhost:8080/"
        },
        "id": "DVGh14MCMltL",
        "outputId": "9294d660-a8de-41af-9cbc-93c9d5db1299"
      },
      "source": [
        "#import numpy as np\n",
        "arr4 = np.array([1,2,3])\n",
        " \n",
        "print(arr4.dtype)\n",
        " \n",
        "print (arr4.ndim)\n",
        " \n",
        "print (arr4.shape)\n",
        " \n",
        "print(arr4.size)"
      ],
      "execution_count": 15,
      "outputs": [
        {
          "output_type": "stream",
          "text": [
            "int64\n",
            "1\n",
            "(3,)\n",
            "3\n"
          ],
          "name": "stdout"
        }
      ]
    }
  ]
}